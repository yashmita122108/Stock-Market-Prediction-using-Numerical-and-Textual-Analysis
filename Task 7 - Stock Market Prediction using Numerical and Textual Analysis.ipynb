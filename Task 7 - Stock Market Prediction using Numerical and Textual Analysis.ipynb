{
 "cells": [
  {
   "cell_type": "markdown",
   "id": "3a4b9dcf",
   "metadata": {},
   "source": [
    "# Graduate Rotational Internship Program"
   ]
  },
  {
   "cell_type": "markdown",
   "id": "eb40002c",
   "metadata": {},
   "source": [
    "# The Sparks Foundation"
   ]
  },
  {
   "cell_type": "markdown",
   "id": "a4f5da6f",
   "metadata": {},
   "source": [
    "# Task - 7: Stock Market Prediction using Numerical and Textual Analysis\n"
   ]
  },
  {
   "cell_type": "markdown",
   "id": "b075b322",
   "metadata": {},
   "source": [
    "# Author : Yashmita"
   ]
  },
  {
   "cell_type": "markdown",
   "id": "e59c5671",
   "metadata": {},
   "source": [
    "**Problem statement** \n",
    "\n",
    "Create a hybrid model for stock price/performance prediction using numerical analysis of historical stock prices, and\n",
    "sentimental analysis of news headlines\n",
    "\n",
    "Stock to analyze and predict - SENSEX (S&P BSE SENSEX)"
   ]
  },
  {
   "cell_type": "markdown",
   "id": "46267620",
   "metadata": {},
   "source": [
    "**Dataset**\n",
    "\n",
    "Historical stock prices from finance.yahoo.com & textual (news) data from https:/bit.ly/36fFPI6"
   ]
  },
  {
   "cell_type": "markdown",
   "id": "3ef329f8",
   "metadata": {},
   "source": [
    "# Step 1 : Import the required libraries"
   ]
  },
  {
   "cell_type": "code",
   "execution_count": null,
   "id": "779f53a4",
   "metadata": {},
   "outputs": [],
   "source": [
    "#importing required libraries\n",
    "from sklearn.preprocessing import MinMaxScaler\n",
    "from sklearn.metrics import mean_squared_error\n",
    "from sklearn import metrics \n",
    "from keras.models import Sequential\n",
    "from keras.layers import Dense, LSTM\n",
    "import pandas as pd\n",
    "import matplotlib.pyplot as plt\n",
    "import numpy as np\n",
    "import math\n",
    "import re\n",
    "import nltk\n",
    "import re\n",
    "from nltk.corpus import stopwords\n",
    "nltk.download('stopwords')\n",
    "nltk.download('vader_lexicon')\n",
    "from textblob import TextBlob\n",
    "from nltk.sentiment.vader import SentimentIntensityAnalyzer\n",
    "from sklearn.ensemble import RandomForestRegressor, AdaBoostRegressor\n",
    "import xgboost "
   ]
  },
  {
   "cell_type": "code",
   "execution_count": 2,
   "id": "bd511d38",
   "metadata": {},
   "outputs": [
    {
     "name": "stdout",
     "output_type": "stream",
     "text": [
      "Requirement already satisfied: statsmodels in c:\\users\\hp\\anaconda3\\lib\\site-packages (0.13.2)\n",
      "Requirement already satisfied: numpy>=1.17 in c:\\users\\hp\\anaconda3\\lib\\site-packages (from statsmodels) (1.21.5)\n",
      "Requirement already satisfied: scipy>=1.3 in c:\\users\\hp\\anaconda3\\lib\\site-packages (from statsmodels) (1.7.3)\n",
      "Requirement already satisfied: pandas>=0.25 in c:\\users\\hp\\anaconda3\\lib\\site-packages (from statsmodels) (1.4.2)\n",
      "Requirement already satisfied: patsy>=0.5.2 in c:\\users\\hp\\anaconda3\\lib\\site-packages (from statsmodels) (0.5.2)\n",
      "Requirement already satisfied: packaging>=21.3 in c:\\users\\hp\\anaconda3\\lib\\site-packages (from statsmodels) (21.3)\n",
      "Requirement already satisfied: pyparsing!=3.0.5,>=2.0.2 in c:\\users\\hp\\anaconda3\\lib\\site-packages (from packaging>=21.3->statsmodels) (3.0.4)\n",
      "Requirement already satisfied: python-dateutil>=2.8.1 in c:\\users\\hp\\anaconda3\\lib\\site-packages (from pandas>=0.25->statsmodels) (2.8.2)\n",
      "Requirement already satisfied: pytz>=2020.1 in c:\\users\\hp\\anaconda3\\lib\\site-packages (from pandas>=0.25->statsmodels) (2021.3)\n",
      "Requirement already satisfied: six in c:\\users\\hp\\anaconda3\\lib\\site-packages (from patsy>=0.5.2->statsmodels) (1.16.0)\n"
     ]
    }
   ],
   "source": [
    "!pip3 install statsmodels"
   ]
  },
  {
   "cell_type": "code",
   "execution_count": 3,
   "id": "b04bbdd6",
   "metadata": {},
   "outputs": [],
   "source": [
    "from statsmodels.tsa.stattools import adfuller, acf, pacf\n",
    "from scipy.stats import norm\n",
    "import statsmodels.api as sm"
   ]
  },
  {
   "cell_type": "code",
   "execution_count": 4,
   "id": "e3800906",
   "metadata": {},
   "outputs": [],
   "source": [
    "from statsmodels.tsa.statespace.sarimax import SARIMAX"
   ]
  },
  {
   "cell_type": "code",
   "execution_count": 5,
   "id": "d86d43b2",
   "metadata": {},
   "outputs": [
    {
     "name": "stderr",
     "output_type": "stream",
     "text": [
      "[nltk_data] Downloading package stopwords to\n",
      "[nltk_data]     C:\\Users\\hp\\AppData\\Roaming\\nltk_data...\n",
      "[nltk_data]   Package stopwords is already up-to-date!\n",
      "[nltk_data] Downloading package vader_lexicon to\n",
      "[nltk_data]     C:\\Users\\hp\\AppData\\Roaming\\nltk_data...\n",
      "[nltk_data]   Package vader_lexicon is already up-to-date!\n"
     ]
    }
   ],
   "source": [
    "import nltk\n",
    "import re\n",
    "from nltk.corpus import stopwords\n",
    "nltk.download('stopwords')\n",
    "nltk.download('vader_lexicon')\n",
    "from nltk.sentiment.vader import SentimentIntensityAnalyzer\n",
    "from nltk.stem.porter import PorterStemmer"
   ]
  },
  {
   "cell_type": "code",
   "execution_count": 7,
   "id": "471c4cbd",
   "metadata": {},
   "outputs": [
    {
     "name": "stdout",
     "output_type": "stream",
     "text": [
      "Requirement already satisfied: lightgbm in c:\\users\\hp\\anaconda3\\lib\\site-packages (4.1.0)\n",
      "Requirement already satisfied: scipy in c:\\users\\hp\\anaconda3\\lib\\site-packages (from lightgbm) (1.7.3)\n",
      "Requirement already satisfied: numpy in c:\\users\\hp\\anaconda3\\lib\\site-packages (from lightgbm) (1.21.5)\n"
     ]
    }
   ],
   "source": [
    "from sklearn.metrics import mean_squared_error\n",
    "from sklearn.model_selection import train_test_split\n",
    "!pip3 install lightgbm\n",
    "import lightgbm\n",
    "     "
   ]
  },
  {
   "cell_type": "markdown",
   "id": "cf8018e8",
   "metadata": {},
   "source": [
    "# Step 2 : Importing the Numerical dataset & perform Exploratory Analysis"
   ]
  },
  {
   "cell_type": "code",
   "execution_count": 18,
   "id": "0d2040ba",
   "metadata": {},
   "outputs": [
    {
     "data": {
      "text/html": [
       "<div>\n",
       "<style scoped>\n",
       "    .dataframe tbody tr th:only-of-type {\n",
       "        vertical-align: middle;\n",
       "    }\n",
       "\n",
       "    .dataframe tbody tr th {\n",
       "        vertical-align: top;\n",
       "    }\n",
       "\n",
       "    .dataframe thead th {\n",
       "        text-align: right;\n",
       "    }\n",
       "</style>\n",
       "<table border=\"1\" class=\"dataframe\">\n",
       "  <thead>\n",
       "    <tr style=\"text-align: right;\">\n",
       "      <th></th>\n",
       "      <th>Date</th>\n",
       "      <th>Open</th>\n",
       "      <th>High</th>\n",
       "      <th>Low</th>\n",
       "      <th>Close</th>\n",
       "    </tr>\n",
       "  </thead>\n",
       "  <tbody>\n",
       "    <tr>\n",
       "      <th>0</th>\n",
       "      <td>01-Jan-15</td>\n",
       "      <td>27485.77</td>\n",
       "      <td>27545.61</td>\n",
       "      <td>27395.34</td>\n",
       "      <td>27507.54</td>\n",
       "    </tr>\n",
       "    <tr>\n",
       "      <th>1</th>\n",
       "      <td>02-Jan-15</td>\n",
       "      <td>27521.28</td>\n",
       "      <td>27937.47</td>\n",
       "      <td>27519.26</td>\n",
       "      <td>27887.90</td>\n",
       "    </tr>\n",
       "    <tr>\n",
       "      <th>2</th>\n",
       "      <td>05-Jan-15</td>\n",
       "      <td>27978.43</td>\n",
       "      <td>28064.49</td>\n",
       "      <td>27786.85</td>\n",
       "      <td>27842.32</td>\n",
       "    </tr>\n",
       "    <tr>\n",
       "      <th>3</th>\n",
       "      <td>06-Jan-15</td>\n",
       "      <td>27694.23</td>\n",
       "      <td>27698.93</td>\n",
       "      <td>26937.06</td>\n",
       "      <td>26987.46</td>\n",
       "    </tr>\n",
       "    <tr>\n",
       "      <th>4</th>\n",
       "      <td>07-Jan-15</td>\n",
       "      <td>26983.43</td>\n",
       "      <td>27051.60</td>\n",
       "      <td>26776.12</td>\n",
       "      <td>26908.82</td>\n",
       "    </tr>\n",
       "  </tbody>\n",
       "</table>\n",
       "</div>"
      ],
      "text/plain": [
       "        Date      Open      High       Low     Close\n",
       "0  01-Jan-15  27485.77  27545.61  27395.34  27507.54\n",
       "1  02-Jan-15  27521.28  27937.47  27519.26  27887.90\n",
       "2  05-Jan-15  27978.43  28064.49  27786.85  27842.32\n",
       "3  06-Jan-15  27694.23  27698.93  26937.06  26987.46\n",
       "4  07-Jan-15  26983.43  27051.60  26776.12  26908.82"
      ]
     },
     "execution_count": 18,
     "metadata": {},
     "output_type": "execute_result"
    }
   ],
   "source": [
    "df_prices = pd.read_csv('^BSESN.csv')\n",
    "df_prices.head()"
   ]
  },
  {
   "cell_type": "code",
   "execution_count": 19,
   "id": "5057633c",
   "metadata": {},
   "outputs": [
    {
     "data": {
      "text/plain": [
       "1401"
      ]
     },
     "execution_count": 19,
     "metadata": {},
     "output_type": "execute_result"
    }
   ],
   "source": [
    "len(df_prices)"
   ]
  },
  {
   "cell_type": "code",
   "execution_count": 20,
   "id": "30f1638a",
   "metadata": {},
   "outputs": [
    {
     "name": "stdout",
     "output_type": "stream",
     "text": [
      "<class 'pandas.core.frame.DataFrame'>\n",
      "RangeIndex: 1401 entries, 0 to 1400\n",
      "Data columns (total 5 columns):\n",
      " #   Column  Non-Null Count  Dtype         \n",
      "---  ------  --------------  -----         \n",
      " 0   Date    1401 non-null   datetime64[ns]\n",
      " 1   Open    1401 non-null   float64       \n",
      " 2   High    1401 non-null   float64       \n",
      " 3   Low     1401 non-null   float64       \n",
      " 4   Close   1401 non-null   float64       \n",
      "dtypes: datetime64[ns](1), float64(4)\n",
      "memory usage: 54.9 KB\n"
     ]
    }
   ],
   "source": [
    "\n",
    "df_prices['Date'] = pd.to_datetime(df_prices['Date'])\n",
    "df_prices.info()"
   ]
  },
  {
   "cell_type": "markdown",
   "id": "043c0899",
   "metadata": {},
   "source": [
    "# Step 3 : Visualizing the data using plot"
   ]
  },
  {
   "cell_type": "code",
   "execution_count": 21,
   "id": "e7f2a802",
   "metadata": {},
   "outputs": [
    {
     "name": "stdout",
     "output_type": "stream",
     "text": [
      "1401\n"
     ]
    }
   ],
   "source": [
    "df_prices.dropna(inplace = True)\n",
    "print(len(df_prices))"
   ]
  },
  {
   "cell_type": "code",
   "execution_count": 22,
   "id": "6e1a3b23",
   "metadata": {},
   "outputs": [
    {
     "data": {
      "text/plain": [
       "Text(0, 0.5, 'BSESN')"
      ]
     },
     "execution_count": 22,
     "metadata": {},
     "output_type": "execute_result"
    },
    {
     "data": {
      "image/png": "[encoded data removed]",
      "text/plain": [
       "<Figure size 432x288 with 1 Axes>"
      ]
     },
     "metadata": {
      "needs_background": "light"
     },
     "output_type": "display_data"
    }
   ],
   "source": [
    "df_prices['Close'].plot()\n",
    "plt.ylabel('BSESN')"
   ]
  },
  {
   "cell_type": "code",
   "execution_count": 23,
   "id": "60adfe60",
   "metadata": {},
   "outputs": [
    {
     "data": {
      "text/plain": [
       "<matplotlib.legend.Legend at 0x17c31d58460>"
      ]
     },
     "execution_count": 23,
     "metadata": {},
     "output_type": "execute_result"
    },
    {
     "data": {
      "image/png": "[encoded data removed]",
      "text/plain": [
       "<Figure size 720x432 with 1 Axes>"
      ]
     },
     "metadata": {
      "needs_background": "light"
     },
     "output_type": "display_data"
    }
   ],
   "source": [
    "#Plotting moving average\n",
    "close = df_prices['Close']\n",
    "ma = close.rolling(window = 50).mean()\n",
    "std = close.rolling(window = 50).std()\n",
    "\n",
    "plt.figure(figsize=(10, 6))\n",
    "df_prices['Close'].plot(color = 'g', label = 'Close')\n",
    "ma.plot(color = 'r', label = 'Rolling Mean')\n",
    "std.plot(label = 'Rolling Standard Deviation')\n",
    "plt.legend()\n",
    "     "
   ]
  },
  {
   "cell_type": "markdown",
   "id": "38a320e3",
   "metadata": {},
   "source": [
    "**INFERENCE**\n",
    "\n",
    "This time series plot displays the 'Close' prices of a financial asset, along with its rolling mean and rolling standard deviation, making it easier to visualize trends and volatility in the data over time."
   ]
  },
  {
   "cell_type": "markdown",
   "id": "035b3dd1",
   "metadata": {},
   "source": [
    "# Step 4 : Testing the Model "
   ]
  },
  {
   "cell_type": "code",
   "execution_count": 24,
   "id": "4c3abf1a",
   "metadata": {},
   "outputs": [],
   "source": [
    "# Train test Split\n",
    "\n",
    "train = df_prices[:3000]\n",
    "test = df_prices[3000:]"
   ]
  },
  {
   "cell_type": "code",
   "execution_count": 25,
   "id": "47a746fd",
   "metadata": {},
   "outputs": [
    {
     "data": {
      "image/png": "[encoded data removed]",
      "text/plain": [
       "<Figure size 720x576 with 1 Axes>"
      ]
     },
     "metadata": {
      "needs_background": "light"
     },
     "output_type": "display_data"
    },
    {
     "name": "stdout",
     "output_type": "stream",
     "text": [
      "Results of dickey fuller test\n",
      "ADF Test Statistic : -1.4228198417382858\n",
      "p-value : 0.5712884335651451\n",
      "#Lags Used : 11\n",
      "Number of Observations Used : 1389\n",
      "Weak evidence against null hypothesis, time series is non-stationary \n"
     ]
    }
   ],
   "source": [
    "#Stationarity test\n",
    "def test_stationarity(timeseries):\n",
    "\n",
    " #Determing rolling statistics\n",
    " rolmean = timeseries.rolling(20).mean()\n",
    " rolstd = timeseries.rolling(20).std()\n",
    "\n",
    " #Plot rolling statistics:\n",
    " plt.figure(figsize = (10,8))\n",
    " plt.plot(timeseries, color = 'y', label = 'original')\n",
    " plt.plot(rolmean, color = 'r', label = 'rolling mean')\n",
    " plt.plot(rolstd, color = 'b', label = 'rolling std')\n",
    " plt.xlabel('Date')\n",
    " plt.legend()\n",
    " plt.title('Rolling Mean and Standard Deviation',  fontsize = 20)\n",
    " plt.show(block = False)\n",
    " \n",
    " print('Results of dickey fuller test')\n",
    " result = adfuller(timeseries, autolag = 'AIC')\n",
    " labels = ['ADF Test Statistic','p-value','#Lags Used','Number of Observations Used']\n",
    " for value,label in zip(result, labels):\n",
    "   print(label+' : '+str(value) )\n",
    " if result[1] <= 0.05:\n",
    "   print(\"Strong evidence against the null hypothesis(Ho), reject the null hypothesis. Data is stationary\")\n",
    " else:\n",
    "   print(\"Weak evidence against null hypothesis, time series is non-stationary \")\n",
    "test_stationarity(train['Close'])"
   ]
  },
  {
   "cell_type": "markdown",
   "id": "a2e4af11",
   "metadata": {},
   "source": [
    "**IMNFERENCE**\n",
    "\n",
    "This defines a function to test the stationarity of a time series, plots the original series along with its rolling mean and standard deviation, and uses the Dickey-Fuller test to determine whether the time series is stationary or non-stationary.\n",
    "Based on these results, we can interpret the outcome of the Dickey-Fuller test as follows:\n",
    "\n",
    "The null hypothesis (H0) in the Dickey-Fuller test is that the time series is non-stationary, meaning it has a unit root and is influenced by past values. The alternative hypothesis (H1) is that the time series is stationary.\n",
    "\n",
    "The ADF Test Statistic is -1.42, which is less negative than critical values at common significance levels. This suggests that the test statistic is not extreme, and the time series does not convincingly reject the null hypothesis.\n",
    "\n",
    "The p-value is 0.571, which is substantially greater than the typical significance level of 0.05. When the p-value is high, it indicates weak evidence against the null hypothesis.\n",
    "\n",
    "Given the ADF Test Statistic and the p-value, we have insufficient evidence to reject the null hypothesis. Therefore, the conclusion is:\n",
    "\n",
    "\"Weak evidence against the null hypothesis, time series is non-stationary.\"\n",
    "\n",
    "In other words, the data does not appear to be stationary based on this test, and it likely exhibits some form of non-stationary behavior, such as a trend or seasonality."
   ]
  },
  {
   "cell_type": "code",
   "execution_count": 26,
   "id": "a073e86f",
   "metadata": {},
   "outputs": [
    {
     "data": {
      "text/plain": [
       "[<matplotlib.lines.Line2D at 0x17c31edc880>]"
      ]
     },
     "execution_count": 26,
     "metadata": {},
     "output_type": "execute_result"
    },
    {
     "data": {
      "image/png": "[encoded data removed]",
      "text/plain": [
       "<Figure size 720x432 with 1 Axes>"
      ]
     },
     "metadata": {
      "needs_background": "light"
     },
     "output_type": "display_data"
    }
   ],
   "source": [
    "train_log = np.log(train['Close']) \n",
    "test_log = np.log(test['Close'])\n",
    "\n",
    "mav = train_log.rolling(24).mean() \n",
    "plt.figure(figsize = (10,6))\n",
    "plt.plot(train_log) \n",
    "plt.plot(mav, color = 'red')\n",
    "     "
   ]
  },
  {
   "cell_type": "code",
   "execution_count": 28,
   "id": "cb67ee8b",
   "metadata": {},
   "outputs": [
    {
     "data": {
      "image/png": "[encoded data removed]",
      "text/plain": [
       "<Figure size 720x576 with 1 Axes>"
      ]
     },
     "metadata": {
      "needs_background": "light"
     },
     "output_type": "display_data"
    },
    {
     "name": "stdout",
     "output_type": "stream",
     "text": [
      "Results of dickey fuller test\n",
      "ADF Test Statistic : -7.832173101847731\n",
      "p-value : 6.250714552918045e-12\n",
      "#Lags Used : 12\n",
      "Number of Observations Used : 1365\n",
      "Strong evidence against the null hypothesis(Ho), reject the null hypothesis. Data is stationary\n"
     ]
    }
   ],
   "source": [
    "\n",
    "train_log_diff = train_log - mav\n",
    "train_log_diff.dropna(inplace = True)\n",
    "\n",
    "test_stationarity(train_log_diff)"
   ]
  },
  {
   "cell_type": "markdown",
   "id": "45e54328",
   "metadata": {},
   "source": [
    "**INFERENCE**\n",
    "\n",
    "Based on these results, we can interpret the outcome of the Dickey-Fuller test as follows:\n",
    "\n",
    "The null hypothesis (H0) in the Dickey-Fuller test is that the time series is non-stationary, meaning it has a unit root and is influenced by past values. The alternative hypothesis (H1) is that the time series is stationary.\n",
    "\n",
    "The ADF Test Statistic is -7.83, which is significantly more negative than critical values at common significance levels. This suggests that the test statistic is highly extreme in the negative direction, providing strong evidence against the null hypothesis.\n",
    "\n",
    "The p-value is extremely close to zero (approximately 0 when rounded), which is far below the typical significance level of 0.05. When the p-value is very low, it indicates strong evidence against the null hypothesis.\n",
    "\n",
    "Given the ADF Test Statistic and the very low p-value, we have strong evidence to reject the null hypothesis. Therefore, the conclusion is:\n",
    "\n",
    "\"Strong evidence against the null hypothesis(Ho), reject the null hypothesis. Data is stationary.\"\n",
    "\n",
    "In other words, the data appears to be stationary based on this test, and there is a high degree of confidence that it does not exhibit a unit root or non-stationary behavior."
   ]
  },
  {
   "cell_type": "markdown",
   "id": "06832ce8",
   "metadata": {},
   "source": [
    "# Step 5 :Time series Prediction"
   ]
  },
  {
   "cell_type": "code",
   "execution_count": 38,
   "id": "43075b0a",
   "metadata": {},
   "outputs": [
    {
     "name": "stdout",
     "output_type": "stream",
     "text": [
      "Performing stepwise search to minimize aic\n",
      " ARIMA(2,1,2)(0,0,0)[0] intercept   : AIC=-8524.583, Time=0.97 sec\n",
      " ARIMA(0,1,0)(0,0,0)[0] intercept   : AIC=-8532.085, Time=0.20 sec\n",
      " ARIMA(1,1,0)(0,0,0)[0] intercept   : AIC=-8533.900, Time=0.13 sec\n",
      " ARIMA(0,1,1)(0,0,0)[0] intercept   : AIC=-8533.704, Time=0.28 sec\n",
      " ARIMA(0,1,0)(0,0,0)[0]             : AIC=-8533.460, Time=0.11 sec\n",
      " ARIMA(2,1,0)(0,0,0)[0] intercept   : AIC=-8532.613, Time=0.21 sec\n",
      " ARIMA(1,1,1)(0,0,0)[0] intercept   : AIC=-8532.148, Time=0.32 sec\n",
      " ARIMA(2,1,1)(0,0,0)[0] intercept   : AIC=-8530.679, Time=0.89 sec\n",
      " ARIMA(1,1,0)(0,0,0)[0]             : AIC=-8535.206, Time=0.16 sec\n",
      " ARIMA(2,1,0)(0,0,0)[0]             : AIC=-8533.949, Time=0.12 sec\n",
      " ARIMA(1,1,1)(0,0,0)[0]             : AIC=-8533.462, Time=0.20 sec\n",
      " ARIMA(0,1,1)(0,0,0)[0]             : AIC=-8535.009, Time=0.18 sec\n",
      " ARIMA(2,1,1)(0,0,0)[0]             : AIC=-8532.016, Time=0.40 sec\n",
      "\n",
      "Best model:  ARIMA(1,1,0)(0,0,0)[0]          \n",
      "Total fit time: 4.146 seconds\n"
     ]
    }
   ],
   "source": [
    "# Assuming you have already imported the necessary libraries and have defined your 'train_log' and 'test' data\n",
    "\n",
    "# Fit the ARIMA model\n",
    "model = auto_arima(train_log, trace=True, error_action='ignore', suppress_warnings=True)\n",
    "model.fit(train_log)\n",
    "\n",
    "# Define the number of periods for prediction\n",
    "n_periods = len(test)"
   ]
  },
  {
   "cell_type": "markdown",
   "id": "9181a6d5",
   "metadata": {},
   "source": [
    "**INFERENCE**\n",
    "\n",
    "The best model identified is ARIMA(1,1,0)(0,0,0)[0], with an AIC of -8535.206. This model appears to provide the best trade-off between model complexity and fit to the data among those tested, as it has the lowest AIC. The total time taken for this search process was 4.146 seconds."
   ]
  },
  {
   "cell_type": "markdown",
   "id": "02202a5c",
   "metadata": {},
   "source": [
    "# Step 6 : Visualizing stock price prediction"
   ]
  },
  {
   "cell_type": "code",
   "execution_count": 40,
   "id": "c47d013f",
   "metadata": {},
   "outputs": [
    {
     "data": {
      "text/plain": [
       "Text(0, 0.5, 'Actual Stock Price')"
      ]
     },
     "execution_count": 40,
     "metadata": {},
     "output_type": "execute_result"
    },
    {
     "data": {
      "image/png": "[encoded data removed]",
      "text/plain": [
       "<Figure size 432x288 with 1 Axes>"
      ]
     },
     "metadata": {
      "needs_background": "light"
     },
     "output_type": "display_data"
    }
   ],
   "source": [
    "plt.plot(train_log, label='Train')\n",
    "plt.plot(test_log, label='Test')\n",
    "\n",
    "plt.title('BSESN Stock Price Prediction')\n",
    "plt.xlabel('Time')\n",
    "plt.ylabel('Actual Stock Price')"
   ]
  },
  {
   "cell_type": "markdown",
   "id": "a8c06fb8",
   "metadata": {},
   "source": [
    "# Step 7 : Textual Analysis and processing"
   ]
  },
  {
   "cell_type": "code",
   "execution_count": 44,
   "id": "f27361e0",
   "metadata": {},
   "outputs": [
    {
     "name": "stderr",
     "output_type": "stream",
     "text": [
      "C:\\Users\\hp\\AppData\\Local\\Temp\\ipykernel_13424\\1618298659.py:2: FutureWarning: The error_bad_lines argument has been deprecated and will be removed in a future version. Use on_bad_lines in the future.\n",
      "\n",
      "\n",
      "  df_news=pd.read_csv('india-news-headlines.csv',names = cols,engine='python', error_bad_lines=False)\n"
     ]
    },
    {
     "data": {
      "text/html": [
       "<div>\n",
       "<style scoped>\n",
       "    .dataframe tbody tr th:only-of-type {\n",
       "        vertical-align: middle;\n",
       "    }\n",
       "\n",
       "    .dataframe tbody tr th {\n",
       "        vertical-align: top;\n",
       "    }\n",
       "\n",
       "    .dataframe thead th {\n",
       "        text-align: right;\n",
       "    }\n",
       "</style>\n",
       "<table border=\"1\" class=\"dataframe\">\n",
       "  <thead>\n",
       "    <tr style=\"text-align: right;\">\n",
       "      <th></th>\n",
       "      <th>Date</th>\n",
       "      <th>Category</th>\n",
       "      <th>News</th>\n",
       "    </tr>\n",
       "  </thead>\n",
       "  <tbody>\n",
       "    <tr>\n",
       "      <th>0</th>\n",
       "      <td>publish_date</td>\n",
       "      <td>headline_category</td>\n",
       "      <td>headline_text</td>\n",
       "    </tr>\n",
       "    <tr>\n",
       "      <th>1</th>\n",
       "      <td>20010102</td>\n",
       "      <td>unknown</td>\n",
       "      <td>Status quo will not be disturbed at Ayodhya; s...</td>\n",
       "    </tr>\n",
       "    <tr>\n",
       "      <th>2</th>\n",
       "      <td>20010102</td>\n",
       "      <td>unknown</td>\n",
       "      <td>Fissures in Hurriyat over Pak visit</td>\n",
       "    </tr>\n",
       "    <tr>\n",
       "      <th>3</th>\n",
       "      <td>20010102</td>\n",
       "      <td>unknown</td>\n",
       "      <td>America's unwanted heading for India?</td>\n",
       "    </tr>\n",
       "    <tr>\n",
       "      <th>4</th>\n",
       "      <td>20010102</td>\n",
       "      <td>unknown</td>\n",
       "      <td>For bigwigs; it is destination Goa</td>\n",
       "    </tr>\n",
       "    <tr>\n",
       "      <th>...</th>\n",
       "      <td>...</td>\n",
       "      <td>...</td>\n",
       "      <td>...</td>\n",
       "    </tr>\n",
       "    <tr>\n",
       "      <th>3650966</th>\n",
       "      <td>20220331</td>\n",
       "      <td>city.srinagar</td>\n",
       "      <td>J&amp;K sacks 2 cops; 3 other employees over terro...</td>\n",
       "    </tr>\n",
       "    <tr>\n",
       "      <th>3650967</th>\n",
       "      <td>20220331</td>\n",
       "      <td>entertainment.hindi.bollywood</td>\n",
       "      <td>Ranbir Kapoor says 'Rishi Kapoor enjoyed his a...</td>\n",
       "    </tr>\n",
       "    <tr>\n",
       "      <th>3650968</th>\n",
       "      <td>20220331</td>\n",
       "      <td>city.trichy</td>\n",
       "      <td>As Covid-19 cases drop to nil in southern dist...</td>\n",
       "    </tr>\n",
       "    <tr>\n",
       "      <th>3650969</th>\n",
       "      <td>20220331</td>\n",
       "      <td>city.erode</td>\n",
       "      <td>Tamil Nadu sees marginal rise of Covid cases w...</td>\n",
       "    </tr>\n",
       "    <tr>\n",
       "      <th>3650970</th>\n",
       "      <td>20220331</td>\n",
       "      <td>city.salem</td>\n",
       "      <td>Tamil Nadu sees marginal rise of Covid cases w...</td>\n",
       "    </tr>\n",
       "  </tbody>\n",
       "</table>\n",
       "<p>3650971 rows × 3 columns</p>\n",
       "</div>"
      ],
      "text/plain": [
       "                 Date                       Category  \\\n",
       "0        publish_date              headline_category   \n",
       "1            20010102                        unknown   \n",
       "2            20010102                        unknown   \n",
       "3            20010102                        unknown   \n",
       "4            20010102                        unknown   \n",
       "...               ...                            ...   \n",
       "3650966      20220331                  city.srinagar   \n",
       "3650967      20220331  entertainment.hindi.bollywood   \n",
       "3650968      20220331                    city.trichy   \n",
       "3650969      20220331                     city.erode   \n",
       "3650970      20220331                     city.salem   \n",
       "\n",
       "                                                      News  \n",
       "0                                            headline_text  \n",
       "1        Status quo will not be disturbed at Ayodhya; s...  \n",
       "2                      Fissures in Hurriyat over Pak visit  \n",
       "3                    America's unwanted heading for India?  \n",
       "4                       For bigwigs; it is destination Goa  \n",
       "...                                                    ...  \n",
       "3650966  J&K sacks 2 cops; 3 other employees over terro...  \n",
       "3650967  Ranbir Kapoor says 'Rishi Kapoor enjoyed his a...  \n",
       "3650968  As Covid-19 cases drop to nil in southern dist...  \n",
       "3650969  Tamil Nadu sees marginal rise of Covid cases w...  \n",
       "3650970  Tamil Nadu sees marginal rise of Covid cases w...  \n",
       "\n",
       "[3650971 rows x 3 columns]"
      ]
     },
     "execution_count": 44,
     "metadata": {},
     "output_type": "execute_result"
    }
   ],
   "source": [
    "cols = ['Date','Category','News']\n",
    "df_news=pd.read_csv('india-news-headlines.csv',names = cols,engine='python', error_bad_lines=False)\n",
    "df_news\n",
    "     "
   ]
  },
  {
   "cell_type": "code",
   "execution_count": 45,
   "id": "8bdc16a6",
   "metadata": {},
   "outputs": [
    {
     "name": "stdout",
     "output_type": "stream",
     "text": [
      "<class 'pandas.core.frame.DataFrame'>\n",
      "RangeIndex: 3650970 entries, 1 to 3650970\n",
      "Data columns (total 2 columns):\n",
      " #   Column  Dtype \n",
      "---  ------  ----- \n",
      " 0   Date    object\n",
      " 1   News    object\n",
      "dtypes: object(2)\n",
      "memory usage: 55.7+ MB\n"
     ]
    }
   ],
   "source": [
    "\n",
    "df_news.drop(0, inplace=True)\n",
    "df_news.drop('Category', axis = 1, inplace=True)\n",
    "df_news.info()"
   ]
  },
  {
   "cell_type": "code",
   "execution_count": 46,
   "id": "c6888f0f",
   "metadata": {},
   "outputs": [
    {
     "data": {
      "text/plain": [
       "1         2001-01-02\n",
       "2         2001-01-02\n",
       "3         2001-01-02\n",
       "4         2001-01-02\n",
       "5         2001-01-02\n",
       "             ...    \n",
       "3650966   2022-03-31\n",
       "3650967   2022-03-31\n",
       "3650968   2022-03-31\n",
       "3650969   2022-03-31\n",
       "3650970   2022-03-31\n",
       "Name: Date, Length: 3650970, dtype: datetime64[ns]"
      ]
     },
     "execution_count": 46,
     "metadata": {},
     "output_type": "execute_result"
    }
   ],
   "source": [
    "pd.to_datetime(df_news.iloc[:,0].str.replace('‑','-'),format='%Y%m%d')\n",
    "     "
   ]
  },
  {
   "cell_type": "code",
   "execution_count": 47,
   "id": "63fd8f25",
   "metadata": {},
   "outputs": [
    {
     "data": {
      "text/html": [
       "<div>\n",
       "<style scoped>\n",
       "    .dataframe tbody tr th:only-of-type {\n",
       "        vertical-align: middle;\n",
       "    }\n",
       "\n",
       "    .dataframe tbody tr th {\n",
       "        vertical-align: top;\n",
       "    }\n",
       "\n",
       "    .dataframe thead th {\n",
       "        text-align: right;\n",
       "    }\n",
       "</style>\n",
       "<table border=\"1\" class=\"dataframe\">\n",
       "  <thead>\n",
       "    <tr style=\"text-align: right;\">\n",
       "      <th></th>\n",
       "      <th>Date</th>\n",
       "      <th>News</th>\n",
       "    </tr>\n",
       "  </thead>\n",
       "  <tbody>\n",
       "    <tr>\n",
       "      <th>1</th>\n",
       "      <td>2001-01-02 00:01:00</td>\n",
       "      <td>Status quo will not be disturbed at Ayodhya; s...</td>\n",
       "    </tr>\n",
       "    <tr>\n",
       "      <th>2</th>\n",
       "      <td>2001-01-02 00:01:00</td>\n",
       "      <td>Fissures in Hurriyat over Pak visit</td>\n",
       "    </tr>\n",
       "    <tr>\n",
       "      <th>3</th>\n",
       "      <td>2001-01-02 00:01:00</td>\n",
       "      <td>America's unwanted heading for India?</td>\n",
       "    </tr>\n",
       "    <tr>\n",
       "      <th>4</th>\n",
       "      <td>2001-01-02 00:01:00</td>\n",
       "      <td>For bigwigs; it is destination Goa</td>\n",
       "    </tr>\n",
       "    <tr>\n",
       "      <th>5</th>\n",
       "      <td>2001-01-02 00:01:00</td>\n",
       "      <td>Extra buses to clear tourist traffic</td>\n",
       "    </tr>\n",
       "    <tr>\n",
       "      <th>...</th>\n",
       "      <td>...</td>\n",
       "      <td>...</td>\n",
       "    </tr>\n",
       "    <tr>\n",
       "      <th>3650966</th>\n",
       "      <td>2022-01-31 00:03:00</td>\n",
       "      <td>J&amp;K sacks 2 cops; 3 other employees over terro...</td>\n",
       "    </tr>\n",
       "    <tr>\n",
       "      <th>3650967</th>\n",
       "      <td>2022-01-31 00:03:00</td>\n",
       "      <td>Ranbir Kapoor says 'Rishi Kapoor enjoyed his a...</td>\n",
       "    </tr>\n",
       "    <tr>\n",
       "      <th>3650968</th>\n",
       "      <td>2022-01-31 00:03:00</td>\n",
       "      <td>As Covid-19 cases drop to nil in southern dist...</td>\n",
       "    </tr>\n",
       "    <tr>\n",
       "      <th>3650969</th>\n",
       "      <td>2022-01-31 00:03:00</td>\n",
       "      <td>Tamil Nadu sees marginal rise of Covid cases w...</td>\n",
       "    </tr>\n",
       "    <tr>\n",
       "      <th>3650970</th>\n",
       "      <td>2022-01-31 00:03:00</td>\n",
       "      <td>Tamil Nadu sees marginal rise of Covid cases w...</td>\n",
       "    </tr>\n",
       "  </tbody>\n",
       "</table>\n",
       "<p>3650970 rows × 2 columns</p>\n",
       "</div>"
      ],
      "text/plain": [
       "                       Date                                               News\n",
       "1       2001-01-02 00:01:00  Status quo will not be disturbed at Ayodhya; s...\n",
       "2       2001-01-02 00:01:00                Fissures in Hurriyat over Pak visit\n",
       "3       2001-01-02 00:01:00              America's unwanted heading for India?\n",
       "4       2001-01-02 00:01:00                 For bigwigs; it is destination Goa\n",
       "5       2001-01-02 00:01:00               Extra buses to clear tourist traffic\n",
       "...                     ...                                                ...\n",
       "3650966 2022-01-31 00:03:00  J&K sacks 2 cops; 3 other employees over terro...\n",
       "3650967 2022-01-31 00:03:00  Ranbir Kapoor says 'Rishi Kapoor enjoyed his a...\n",
       "3650968 2022-01-31 00:03:00  As Covid-19 cases drop to nil in southern dist...\n",
       "3650969 2022-01-31 00:03:00  Tamil Nadu sees marginal rise of Covid cases w...\n",
       "3650970 2022-01-31 00:03:00  Tamil Nadu sees marginal rise of Covid cases w...\n",
       "\n",
       "[3650970 rows x 2 columns]"
      ]
     },
     "execution_count": 47,
     "metadata": {},
     "output_type": "execute_result"
    }
   ],
   "source": [
    "#Converting data type of Date column \n",
    "df_news['Date'] = pd.to_datetime(df_news['Date'],errors='coerce', format= '%Y%M%d')\n",
    "df_news\n",
    "     "
   ]
  },
  {
   "cell_type": "code",
   "execution_count": 48,
   "id": "fd2981e2",
   "metadata": {},
   "outputs": [
    {
     "data": {
      "text/html": [
       "<div>\n",
       "<style scoped>\n",
       "    .dataframe tbody tr th:only-of-type {\n",
       "        vertical-align: middle;\n",
       "    }\n",
       "\n",
       "    .dataframe tbody tr th {\n",
       "        vertical-align: top;\n",
       "    }\n",
       "\n",
       "    .dataframe thead th {\n",
       "        text-align: right;\n",
       "    }\n",
       "</style>\n",
       "<table border=\"1\" class=\"dataframe\">\n",
       "  <thead>\n",
       "    <tr style=\"text-align: right;\">\n",
       "      <th></th>\n",
       "      <th>Date</th>\n",
       "      <th>News</th>\n",
       "    </tr>\n",
       "  </thead>\n",
       "  <tbody>\n",
       "    <tr>\n",
       "      <th>0</th>\n",
       "      <td>2001-01-02 00:01:00</td>\n",
       "      <td>Status quo will not be disturbed at Ayodhya; s...</td>\n",
       "    </tr>\n",
       "    <tr>\n",
       "      <th>1</th>\n",
       "      <td>2001-01-03 00:01:00</td>\n",
       "      <td>Powerless north India gropes in the dark Think...</td>\n",
       "    </tr>\n",
       "    <tr>\n",
       "      <th>2</th>\n",
       "      <td>2001-01-04 00:01:00</td>\n",
       "      <td>The string that pulled Stephen Hawking to Indi...</td>\n",
       "    </tr>\n",
       "    <tr>\n",
       "      <th>3</th>\n",
       "      <td>2001-01-05 00:01:00</td>\n",
       "      <td>Light combat craft takes India into club class...</td>\n",
       "    </tr>\n",
       "    <tr>\n",
       "      <th>4</th>\n",
       "      <td>2001-01-06 00:01:00</td>\n",
       "      <td>Light combat craft takes India into club class...</td>\n",
       "    </tr>\n",
       "    <tr>\n",
       "      <th>...</th>\n",
       "      <td>...</td>\n",
       "      <td>...</td>\n",
       "    </tr>\n",
       "    <tr>\n",
       "      <th>7712</th>\n",
       "      <td>2022-01-27 00:03:00</td>\n",
       "      <td>Playing a dead man in Body God meant sitting i...</td>\n",
       "    </tr>\n",
       "    <tr>\n",
       "      <th>7713</th>\n",
       "      <td>2022-01-28 00:03:00</td>\n",
       "      <td>As fashion becomes democratic; demand for styl...</td>\n",
       "    </tr>\n",
       "    <tr>\n",
       "      <th>7714</th>\n",
       "      <td>2022-01-29 00:03:00</td>\n",
       "      <td>Bobby Deol: Like my dad; I hope to be working ...</td>\n",
       "    </tr>\n",
       "    <tr>\n",
       "      <th>7715</th>\n",
       "      <td>2022-01-30 00:03:00</td>\n",
       "      <td>I will not give in to trends: Dossmode The tim...</td>\n",
       "    </tr>\n",
       "    <tr>\n",
       "      <th>7716</th>\n",
       "      <td>2022-01-31 00:03:00</td>\n",
       "      <td>Shashank goes back to coastal Karnataka and Mo...</td>\n",
       "    </tr>\n",
       "  </tbody>\n",
       "</table>\n",
       "<p>7717 rows × 2 columns</p>\n",
       "</div>"
      ],
      "text/plain": [
       "                    Date                                               News\n",
       "0    2001-01-02 00:01:00  Status quo will not be disturbed at Ayodhya; s...\n",
       "1    2001-01-03 00:01:00  Powerless north India gropes in the dark Think...\n",
       "2    2001-01-04 00:01:00  The string that pulled Stephen Hawking to Indi...\n",
       "3    2001-01-05 00:01:00  Light combat craft takes India into club class...\n",
       "4    2001-01-06 00:01:00  Light combat craft takes India into club class...\n",
       "...                  ...                                                ...\n",
       "7712 2022-01-27 00:03:00  Playing a dead man in Body God meant sitting i...\n",
       "7713 2022-01-28 00:03:00  As fashion becomes democratic; demand for styl...\n",
       "7714 2022-01-29 00:03:00  Bobby Deol: Like my dad; I hope to be working ...\n",
       "7715 2022-01-30 00:03:00  I will not give in to trends: Dossmode The tim...\n",
       "7716 2022-01-31 00:03:00  Shashank goes back to coastal Karnataka and Mo...\n",
       "\n",
       "[7717 rows x 2 columns]"
      ]
     },
     "execution_count": 48,
     "metadata": {},
     "output_type": "execute_result"
    }
   ],
   "source": [
    "#Grouping the headlines for each day\n",
    "df_news['News'] = df_news.groupby(['Date']).transform(lambda x : ' '.join(x)) \n",
    "df_news = df_news.drop_duplicates() \n",
    "df_news.reset_index(inplace = True, drop = True)\n",
    "df_news"
   ]
  },
  {
   "cell_type": "markdown",
   "id": "9f1771df",
   "metadata": {},
   "source": [
    "# Step 8 : Creating model for merging Numerical and textual Analysis"
   ]
  },
  {
   "cell_type": "code",
   "execution_count": 49,
   "id": "a8047168",
   "metadata": {},
   "outputs": [],
   "source": [
    "#Functions to get the subjectivity and polarity\n",
    "def getSubjectivity(text):\n",
    "  return TextBlob(text).sentiment.subjectivity\n",
    "\n",
    "def getPolarity(text):\n",
    "  return  TextBlob(text).sentiment.polarity"
   ]
  },
  {
   "cell_type": "code",
   "execution_count": 50,
   "id": "16e82c65",
   "metadata": {},
   "outputs": [
    {
     "name": "stderr",
     "output_type": "stream",
     "text": [
      "C:\\Users\\hp\\AppData\\Local\\Temp\\ipykernel_13424\\1226800301.py:2: SettingWithCopyWarning: \n",
      "A value is trying to be set on a copy of a slice from a DataFrame.\n",
      "Try using .loc[row_indexer,col_indexer] = value instead\n",
      "\n",
      "See the caveats in the documentation: https://pandas.pydata.org/pandas-docs/stable/user_guide/indexing.html#returning-a-view-versus-a-copy\n",
      "  df_news['Subjectivity'] = df_news['News'].apply(getSubjectivity)\n",
      "C:\\Users\\hp\\AppData\\Local\\Temp\\ipykernel_13424\\1226800301.py:3: SettingWithCopyWarning: \n",
      "A value is trying to be set on a copy of a slice from a DataFrame.\n",
      "Try using .loc[row_indexer,col_indexer] = value instead\n",
      "\n",
      "See the caveats in the documentation: https://pandas.pydata.org/pandas-docs/stable/user_guide/indexing.html#returning-a-view-versus-a-copy\n",
      "  df_news['Polarity'] = df_news['News'].apply(getPolarity)\n"
     ]
    },
    {
     "data": {
      "text/html": [
       "<div>\n",
       "<style scoped>\n",
       "    .dataframe tbody tr th:only-of-type {\n",
       "        vertical-align: middle;\n",
       "    }\n",
       "\n",
       "    .dataframe tbody tr th {\n",
       "        vertical-align: top;\n",
       "    }\n",
       "\n",
       "    .dataframe thead th {\n",
       "        text-align: right;\n",
       "    }\n",
       "</style>\n",
       "<table border=\"1\" class=\"dataframe\">\n",
       "  <thead>\n",
       "    <tr style=\"text-align: right;\">\n",
       "      <th></th>\n",
       "      <th>Date</th>\n",
       "      <th>News</th>\n",
       "      <th>Subjectivity</th>\n",
       "      <th>Polarity</th>\n",
       "    </tr>\n",
       "  </thead>\n",
       "  <tbody>\n",
       "    <tr>\n",
       "      <th>0</th>\n",
       "      <td>2001-01-02 00:01:00</td>\n",
       "      <td>Status quo will not be disturbed at Ayodhya; s...</td>\n",
       "      <td>0.282333</td>\n",
       "      <td>0.151333</td>\n",
       "    </tr>\n",
       "    <tr>\n",
       "      <th>1</th>\n",
       "      <td>2001-01-03 00:01:00</td>\n",
       "      <td>Powerless north India gropes in the dark Think...</td>\n",
       "      <td>0.407692</td>\n",
       "      <td>0.088462</td>\n",
       "    </tr>\n",
       "    <tr>\n",
       "      <th>2</th>\n",
       "      <td>2001-01-04 00:01:00</td>\n",
       "      <td>The string that pulled Stephen Hawking to Indi...</td>\n",
       "      <td>0.446847</td>\n",
       "      <td>0.087961</td>\n",
       "    </tr>\n",
       "    <tr>\n",
       "      <th>3</th>\n",
       "      <td>2001-01-05 00:01:00</td>\n",
       "      <td>Light combat craft takes India into club class...</td>\n",
       "      <td>0.476612</td>\n",
       "      <td>0.262024</td>\n",
       "    </tr>\n",
       "    <tr>\n",
       "      <th>4</th>\n",
       "      <td>2001-01-06 00:01:00</td>\n",
       "      <td>Light combat craft takes India into club class...</td>\n",
       "      <td>0.439394</td>\n",
       "      <td>0.248485</td>\n",
       "    </tr>\n",
       "    <tr>\n",
       "      <th>...</th>\n",
       "      <td>...</td>\n",
       "      <td>...</td>\n",
       "      <td>...</td>\n",
       "      <td>...</td>\n",
       "    </tr>\n",
       "    <tr>\n",
       "      <th>7712</th>\n",
       "      <td>2022-01-27 00:03:00</td>\n",
       "      <td>Playing a dead man in Body God meant sitting i...</td>\n",
       "      <td>0.369592</td>\n",
       "      <td>0.025109</td>\n",
       "    </tr>\n",
       "    <tr>\n",
       "      <th>7713</th>\n",
       "      <td>2022-01-28 00:03:00</td>\n",
       "      <td>As fashion becomes democratic; demand for styl...</td>\n",
       "      <td>0.389939</td>\n",
       "      <td>0.055878</td>\n",
       "    </tr>\n",
       "    <tr>\n",
       "      <th>7714</th>\n",
       "      <td>2022-01-29 00:03:00</td>\n",
       "      <td>Bobby Deol: Like my dad; I hope to be working ...</td>\n",
       "      <td>0.404240</td>\n",
       "      <td>0.095198</td>\n",
       "    </tr>\n",
       "    <tr>\n",
       "      <th>7715</th>\n",
       "      <td>2022-01-30 00:03:00</td>\n",
       "      <td>I will not give in to trends: Dossmode The tim...</td>\n",
       "      <td>0.350965</td>\n",
       "      <td>0.037729</td>\n",
       "    </tr>\n",
       "    <tr>\n",
       "      <th>7716</th>\n",
       "      <td>2022-01-31 00:03:00</td>\n",
       "      <td>Shashank goes back to coastal Karnataka and Mo...</td>\n",
       "      <td>0.338593</td>\n",
       "      <td>0.023654</td>\n",
       "    </tr>\n",
       "  </tbody>\n",
       "</table>\n",
       "<p>7717 rows × 4 columns</p>\n",
       "</div>"
      ],
      "text/plain": [
       "                    Date                                               News  \\\n",
       "0    2001-01-02 00:01:00  Status quo will not be disturbed at Ayodhya; s...   \n",
       "1    2001-01-03 00:01:00  Powerless north India gropes in the dark Think...   \n",
       "2    2001-01-04 00:01:00  The string that pulled Stephen Hawking to Indi...   \n",
       "3    2001-01-05 00:01:00  Light combat craft takes India into club class...   \n",
       "4    2001-01-06 00:01:00  Light combat craft takes India into club class...   \n",
       "...                  ...                                                ...   \n",
       "7712 2022-01-27 00:03:00  Playing a dead man in Body God meant sitting i...   \n",
       "7713 2022-01-28 00:03:00  As fashion becomes democratic; demand for styl...   \n",
       "7714 2022-01-29 00:03:00  Bobby Deol: Like my dad; I hope to be working ...   \n",
       "7715 2022-01-30 00:03:00  I will not give in to trends: Dossmode The tim...   \n",
       "7716 2022-01-31 00:03:00  Shashank goes back to coastal Karnataka and Mo...   \n",
       "\n",
       "      Subjectivity  Polarity  \n",
       "0         0.282333  0.151333  \n",
       "1         0.407692  0.088462  \n",
       "2         0.446847  0.087961  \n",
       "3         0.476612  0.262024  \n",
       "4         0.439394  0.248485  \n",
       "...            ...       ...  \n",
       "7712      0.369592  0.025109  \n",
       "7713      0.389939  0.055878  \n",
       "7714      0.404240  0.095198  \n",
       "7715      0.350965  0.037729  \n",
       "7716      0.338593  0.023654  \n",
       "\n",
       "[7717 rows x 4 columns]"
      ]
     },
     "execution_count": 50,
     "metadata": {},
     "output_type": "execute_result"
    }
   ],
   "source": [
    "#Adding subjectivity and polarity columns\n",
    "df_news['Subjectivity'] = df_news['News'].apply(getSubjectivity)\n",
    "df_news['Polarity'] = df_news['News'].apply(getPolarity)\n",
    "df_news"
   ]
  },
  {
   "cell_type": "markdown",
   "id": "68f43b92",
   "metadata": {},
   "source": [
    "# Step 9 : Performing Sentiment Analysis on news Headlines"
   ]
  },
  {
   "cell_type": "code",
   "execution_count": 51,
   "id": "217ff769",
   "metadata": {},
   "outputs": [
    {
     "name": "stderr",
     "output_type": "stream",
     "text": [
      "C:\\Users\\hp\\AppData\\Local\\Temp\\ipykernel_13424\\2554867971.py:4: SettingWithCopyWarning: \n",
      "A value is trying to be set on a copy of a slice from a DataFrame.\n",
      "Try using .loc[row_indexer,col_indexer] = value instead\n",
      "\n",
      "See the caveats in the documentation: https://pandas.pydata.org/pandas-docs/stable/user_guide/indexing.html#returning-a-view-versus-a-copy\n",
      "  df_news['Compound'] = [sia.polarity_scores(v)['compound'] for v in df_news['News']]\n",
      "C:\\Users\\hp\\AppData\\Local\\Temp\\ipykernel_13424\\2554867971.py:5: SettingWithCopyWarning: \n",
      "A value is trying to be set on a copy of a slice from a DataFrame.\n",
      "Try using .loc[row_indexer,col_indexer] = value instead\n",
      "\n",
      "See the caveats in the documentation: https://pandas.pydata.org/pandas-docs/stable/user_guide/indexing.html#returning-a-view-versus-a-copy\n",
      "  df_news['Negative'] = [sia.polarity_scores(v)['neg'] for v in df_news['News']]\n",
      "C:\\Users\\hp\\AppData\\Local\\Temp\\ipykernel_13424\\2554867971.py:6: SettingWithCopyWarning: \n",
      "A value is trying to be set on a copy of a slice from a DataFrame.\n",
      "Try using .loc[row_indexer,col_indexer] = value instead\n",
      "\n",
      "See the caveats in the documentation: https://pandas.pydata.org/pandas-docs/stable/user_guide/indexing.html#returning-a-view-versus-a-copy\n",
      "  df_news['Neutral'] = [sia.polarity_scores(v)['neu'] for v in df_news['News']]\n",
      "C:\\Users\\hp\\AppData\\Local\\Temp\\ipykernel_13424\\2554867971.py:7: SettingWithCopyWarning: \n",
      "A value is trying to be set on a copy of a slice from a DataFrame.\n",
      "Try using .loc[row_indexer,col_indexer] = value instead\n",
      "\n",
      "See the caveats in the documentation: https://pandas.pydata.org/pandas-docs/stable/user_guide/indexing.html#returning-a-view-versus-a-copy\n",
      "  df_news['Positive'] = [sia.polarity_scores(v)['pos'] for v in df_news['News']]\n"
     ]
    },
    {
     "data": {
      "text/html": [
       "<div>\n",
       "<style scoped>\n",
       "    .dataframe tbody tr th:only-of-type {\n",
       "        vertical-align: middle;\n",
       "    }\n",
       "\n",
       "    .dataframe tbody tr th {\n",
       "        vertical-align: top;\n",
       "    }\n",
       "\n",
       "    .dataframe thead th {\n",
       "        text-align: right;\n",
       "    }\n",
       "</style>\n",
       "<table border=\"1\" class=\"dataframe\">\n",
       "  <thead>\n",
       "    <tr style=\"text-align: right;\">\n",
       "      <th></th>\n",
       "      <th>Date</th>\n",
       "      <th>News</th>\n",
       "      <th>Subjectivity</th>\n",
       "      <th>Polarity</th>\n",
       "      <th>Compound</th>\n",
       "      <th>Negative</th>\n",
       "      <th>Neutral</th>\n",
       "      <th>Positive</th>\n",
       "    </tr>\n",
       "  </thead>\n",
       "  <tbody>\n",
       "    <tr>\n",
       "      <th>0</th>\n",
       "      <td>2001-01-02 00:01:00</td>\n",
       "      <td>Status quo will not be disturbed at Ayodhya; s...</td>\n",
       "      <td>0.282333</td>\n",
       "      <td>0.151333</td>\n",
       "      <td>-0.9811</td>\n",
       "      <td>0.122</td>\n",
       "      <td>0.807</td>\n",
       "      <td>0.071</td>\n",
       "    </tr>\n",
       "    <tr>\n",
       "      <th>1</th>\n",
       "      <td>2001-01-03 00:01:00</td>\n",
       "      <td>Powerless north India gropes in the dark Think...</td>\n",
       "      <td>0.407692</td>\n",
       "      <td>0.088462</td>\n",
       "      <td>-0.2640</td>\n",
       "      <td>0.122</td>\n",
       "      <td>0.766</td>\n",
       "      <td>0.111</td>\n",
       "    </tr>\n",
       "    <tr>\n",
       "      <th>2</th>\n",
       "      <td>2001-01-04 00:01:00</td>\n",
       "      <td>The string that pulled Stephen Hawking to Indi...</td>\n",
       "      <td>0.446847</td>\n",
       "      <td>0.087961</td>\n",
       "      <td>0.8738</td>\n",
       "      <td>0.100</td>\n",
       "      <td>0.797</td>\n",
       "      <td>0.103</td>\n",
       "    </tr>\n",
       "    <tr>\n",
       "      <th>3</th>\n",
       "      <td>2001-01-05 00:01:00</td>\n",
       "      <td>Light combat craft takes India into club class...</td>\n",
       "      <td>0.476612</td>\n",
       "      <td>0.262024</td>\n",
       "      <td>0.9769</td>\n",
       "      <td>0.124</td>\n",
       "      <td>0.719</td>\n",
       "      <td>0.157</td>\n",
       "    </tr>\n",
       "    <tr>\n",
       "      <th>4</th>\n",
       "      <td>2001-01-06 00:01:00</td>\n",
       "      <td>Light combat craft takes India into club class...</td>\n",
       "      <td>0.439394</td>\n",
       "      <td>0.248485</td>\n",
       "      <td>-0.4215</td>\n",
       "      <td>0.152</td>\n",
       "      <td>0.704</td>\n",
       "      <td>0.143</td>\n",
       "    </tr>\n",
       "    <tr>\n",
       "      <th>...</th>\n",
       "      <td>...</td>\n",
       "      <td>...</td>\n",
       "      <td>...</td>\n",
       "      <td>...</td>\n",
       "      <td>...</td>\n",
       "      <td>...</td>\n",
       "      <td>...</td>\n",
       "      <td>...</td>\n",
       "    </tr>\n",
       "    <tr>\n",
       "      <th>7712</th>\n",
       "      <td>2022-01-27 00:03:00</td>\n",
       "      <td>Playing a dead man in Body God meant sitting i...</td>\n",
       "      <td>0.369592</td>\n",
       "      <td>0.025109</td>\n",
       "      <td>-0.9999</td>\n",
       "      <td>0.154</td>\n",
       "      <td>0.764</td>\n",
       "      <td>0.082</td>\n",
       "    </tr>\n",
       "    <tr>\n",
       "      <th>7713</th>\n",
       "      <td>2022-01-28 00:03:00</td>\n",
       "      <td>As fashion becomes democratic; demand for styl...</td>\n",
       "      <td>0.389939</td>\n",
       "      <td>0.055878</td>\n",
       "      <td>-0.9999</td>\n",
       "      <td>0.158</td>\n",
       "      <td>0.742</td>\n",
       "      <td>0.100</td>\n",
       "    </tr>\n",
       "    <tr>\n",
       "      <th>7714</th>\n",
       "      <td>2022-01-29 00:03:00</td>\n",
       "      <td>Bobby Deol: Like my dad; I hope to be working ...</td>\n",
       "      <td>0.404240</td>\n",
       "      <td>0.095198</td>\n",
       "      <td>-0.9999</td>\n",
       "      <td>0.152</td>\n",
       "      <td>0.766</td>\n",
       "      <td>0.082</td>\n",
       "    </tr>\n",
       "    <tr>\n",
       "      <th>7715</th>\n",
       "      <td>2022-01-30 00:03:00</td>\n",
       "      <td>I will not give in to trends: Dossmode The tim...</td>\n",
       "      <td>0.350965</td>\n",
       "      <td>0.037729</td>\n",
       "      <td>-0.9999</td>\n",
       "      <td>0.151</td>\n",
       "      <td>0.775</td>\n",
       "      <td>0.074</td>\n",
       "    </tr>\n",
       "    <tr>\n",
       "      <th>7716</th>\n",
       "      <td>2022-01-31 00:03:00</td>\n",
       "      <td>Shashank goes back to coastal Karnataka and Mo...</td>\n",
       "      <td>0.338593</td>\n",
       "      <td>0.023654</td>\n",
       "      <td>-0.9999</td>\n",
       "      <td>0.150</td>\n",
       "      <td>0.781</td>\n",
       "      <td>0.069</td>\n",
       "    </tr>\n",
       "  </tbody>\n",
       "</table>\n",
       "<p>7717 rows × 8 columns</p>\n",
       "</div>"
      ],
      "text/plain": [
       "                    Date                                               News  \\\n",
       "0    2001-01-02 00:01:00  Status quo will not be disturbed at Ayodhya; s...   \n",
       "1    2001-01-03 00:01:00  Powerless north India gropes in the dark Think...   \n",
       "2    2001-01-04 00:01:00  The string that pulled Stephen Hawking to Indi...   \n",
       "3    2001-01-05 00:01:00  Light combat craft takes India into club class...   \n",
       "4    2001-01-06 00:01:00  Light combat craft takes India into club class...   \n",
       "...                  ...                                                ...   \n",
       "7712 2022-01-27 00:03:00  Playing a dead man in Body God meant sitting i...   \n",
       "7713 2022-01-28 00:03:00  As fashion becomes democratic; demand for styl...   \n",
       "7714 2022-01-29 00:03:00  Bobby Deol: Like my dad; I hope to be working ...   \n",
       "7715 2022-01-30 00:03:00  I will not give in to trends: Dossmode The tim...   \n",
       "7716 2022-01-31 00:03:00  Shashank goes back to coastal Karnataka and Mo...   \n",
       "\n",
       "      Subjectivity  Polarity  Compound  Negative  Neutral  Positive  \n",
       "0         0.282333  0.151333   -0.9811     0.122    0.807     0.071  \n",
       "1         0.407692  0.088462   -0.2640     0.122    0.766     0.111  \n",
       "2         0.446847  0.087961    0.8738     0.100    0.797     0.103  \n",
       "3         0.476612  0.262024    0.9769     0.124    0.719     0.157  \n",
       "4         0.439394  0.248485   -0.4215     0.152    0.704     0.143  \n",
       "...            ...       ...       ...       ...      ...       ...  \n",
       "7712      0.369592  0.025109   -0.9999     0.154    0.764     0.082  \n",
       "7713      0.389939  0.055878   -0.9999     0.158    0.742     0.100  \n",
       "7714      0.404240  0.095198   -0.9999     0.152    0.766     0.082  \n",
       "7715      0.350965  0.037729   -0.9999     0.151    0.775     0.074  \n",
       "7716      0.338593  0.023654   -0.9999     0.150    0.781     0.069  \n",
       "\n",
       "[7717 rows x 8 columns]"
      ]
     },
     "execution_count": 51,
     "metadata": {},
     "output_type": "execute_result"
    }
   ],
   "source": [
    "#Adding sentiment score to df_news\n",
    "sia = SentimentIntensityAnalyzer()\n",
    "\n",
    "df_news['Compound'] = [sia.polarity_scores(v)['compound'] for v in df_news['News']]\n",
    "df_news['Negative'] = [sia.polarity_scores(v)['neg'] for v in df_news['News']]\n",
    "df_news['Neutral'] = [sia.polarity_scores(v)['neu'] for v in df_news['News']]\n",
    "df_news['Positive'] = [sia.polarity_scores(v)['pos'] for v in df_news['News']]\n",
    "df_news"
   ]
  },
  {
   "cell_type": "code",
   "execution_count": 52,
   "id": "b637e818",
   "metadata": {},
   "outputs": [
    {
     "data": {
      "text/html": [
       "<div>\n",
       "<style scoped>\n",
       "    .dataframe tbody tr th:only-of-type {\n",
       "        vertical-align: middle;\n",
       "    }\n",
       "\n",
       "    .dataframe tbody tr th {\n",
       "        vertical-align: top;\n",
       "    }\n",
       "\n",
       "    .dataframe thead th {\n",
       "        text-align: right;\n",
       "    }\n",
       "</style>\n",
       "<table border=\"1\" class=\"dataframe\">\n",
       "  <thead>\n",
       "    <tr style=\"text-align: right;\">\n",
       "      <th></th>\n",
       "      <th>Date</th>\n",
       "      <th>Open</th>\n",
       "      <th>High</th>\n",
       "      <th>Low</th>\n",
       "      <th>Close</th>\n",
       "      <th>News</th>\n",
       "      <th>Subjectivity</th>\n",
       "      <th>Polarity</th>\n",
       "      <th>Compound</th>\n",
       "      <th>Negative</th>\n",
       "      <th>Neutral</th>\n",
       "      <th>Positive</th>\n",
       "    </tr>\n",
       "  </thead>\n",
       "  <tbody>\n",
       "  </tbody>\n",
       "</table>\n",
       "</div>"
      ],
      "text/plain": [
       "Empty DataFrame\n",
       "Columns: [Date, Open, High, Low, Close, News, Subjectivity, Polarity, Compound, Negative, Neutral, Positive]\n",
       "Index: []"
      ]
     },
     "execution_count": 52,
     "metadata": {},
     "output_type": "execute_result"
    }
   ],
   "source": [
    "df_merge = pd.merge(df_prices, df_news, how='inner', on='Date')\n",
    "df_merge\n",
    "     "
   ]
  },
  {
   "cell_type": "markdown",
   "id": "a139012a",
   "metadata": {},
   "source": [
    "# Step 10 : Training and determining accuracy of model"
   ]
  },
  {
   "cell_type": "code",
   "execution_count": null,
   "id": "9fa11da3",
   "metadata": {},
   "outputs": [],
   "source": [
    "rf = RandomForestRegressor()\n",
    "rf.fit(x_train, y_train)\n",
    "prediction=rf.predict(x_test)"
   ]
  },
  {
   "cell_type": "code",
   "execution_count": null,
   "id": "0ec232ae",
   "metadata": {},
   "outputs": [],
   "source": [
    "print(prediction[:10])\n",
    "print(y_test[:10])\n",
    "print(\"Root mean square error = \",math.sqrt(mean_squared_error(prediction,y_test)),\" RMSE\")"
   ]
  },
  {
   "cell_type": "code",
   "execution_count": null,
   "id": "352bee26",
   "metadata": {},
   "outputs": [],
   "source": [
    "adb = AdaBoostRegressor()\n",
    "adb.fit(x_train, y_train)\n",
    "predictions = adb.predict(x_test)"
   ]
  },
  {
   "cell_type": "code",
   "execution_count": 18,
   "id": "fd7d77dc",
   "metadata": {},
   "outputs": [
    {
     "name": "stdout",
     "output_type": "stream",
     "text": [
      "Root mean square error = 3044.546457 RMSE\n"
     ]
    }
   ],
   "source": [
    "print(\"Root mean square error = \",math.sqrt(mean_squared_error(predictions, y_test)),\" RMSE\")"
   ]
  },
  {
   "cell_type": "markdown",
   "id": "7308ccf0",
   "metadata": {},
   "source": [
    "**INFERENCE**\n",
    "\n",
    "Root Mean Square Error (RMSE) is a measure of the average error between the predicted values and the actual values. It quantifies how far, on average, the predicted values are from the true values.\n",
    "The lower the RMSE, the better the model's predictive accuracy. A smaller RMSE indicates that, on average, the model's predictions are closer to the actual values.\n",
    "\n",
    "So, the interpretation of the result is:\n",
    "\n",
    "\"The Root Mean Square Error (RMSE) between the predicted values and the actual values is approximately 3044.546457.\"\n",
    "This means that, on average, the predictions made by the model have an error of approximately 3044.546457 units when compared to the true values. Lower RMSE values would suggest better predictive accuracy, while higher values indicate that the model's predictions are less accurate."
   ]
  },
  {
   "cell_type": "markdown",
   "id": "901595bb",
   "metadata": {},
   "source": [
    "**END NOTE**\n",
    "\n",
    "The hybrid predictive model that combines numerical analysis of past stock prices with sentiment analysis of news headlines to forecast stock price movements. This achievement involves merging historical stock price data with sentiment data extracted from news headlines. The resulting hybrid model aims to enhance the accuracy and reliability of stock performance predictions by leveraging both quantitative and qualitative information. This innovative approach represents a synthesis of numerical and sentiment-based analyses, offering a comprehensive and more robust means of anticipating stock market dynamics and price trends."
   ]
  }
 ],
 "metadata": {
  "kernelspec": {
   "display_name": "Python 3 (ipykernel)",
   "language": "python",
   "name": "python3"
  },
  "language_info": {
   "codemirror_mode": {
    "name": "ipython",
    "version": 3
   },
   "file_extension": ".py",
   "mimetype": "text/x-python",
   "name": "python",
   "nbconvert_exporter": "python",
   "pygments_lexer": "ipython3",
   "version": "3.9.12"
  }
 },
 "nbformat": 4,
 "nbformat_minor": 5
}
